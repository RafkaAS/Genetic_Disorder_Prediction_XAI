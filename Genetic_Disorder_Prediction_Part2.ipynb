{
  "cells": [
    {
      "cell_type": "markdown",
      "metadata": {
        "id": "view-in-github",
        "colab_type": "text"
      },
      "source": [
        "<a href=\"https://colab.research.google.com/github/RafkaAS/Genetic_Disorder_Prediction_XAI/blob/main/Genetic_Disorder_Prediction_Part2.ipynb\" target=\"_parent\"><img src=\"https://colab.research.google.com/assets/colab-badge.svg\" alt=\"Open In Colab\"/></a>"
      ]
    },
    {
      "cell_type": "markdown",
      "metadata": {
        "id": "YC5kK8telszl"
      },
      "source": [
        "# **Case Study: Genetic Disorder Prediction Using XAI**"
      ]
    },
    {
      "cell_type": "markdown",
      "metadata": {
        "id": "z_twsMcUly7B"
      },
      "source": [
        "### Load the dataset."
      ]
    },
    {
      "cell_type": "code",
      "execution_count": null,
      "metadata": {
        "id": "vxmuGva5kdC0"
      },
      "outputs": [],
      "source": [
        "!wget \"https://docs.google.com/uc?export=download&id=11XypQz1fEKj82bv29fO_7JjwDNPEv5PE\" -O \"Genetic_Disorder_Dataset.csv\""
      ]
    },
    {
      "cell_type": "code",
      "execution_count": null,
      "metadata": {
        "id": "YbVr-h5Ll3CH"
      },
      "outputs": [],
      "source": [
        "import pandas as pd \n",
        "import numpy as np\n",
        "import matplotlib.pyplot as plt"
      ]
    },
    {
      "cell_type": "code",
      "execution_count": null,
      "metadata": {
        "id": "HMmBFMiOl4xz"
      },
      "outputs": [],
      "source": [
        "df = pd.read_csv('Genetic_Disorder_Dataset.csv')\n",
        "\n",
        "df.head()"
      ]
    },
    {
      "cell_type": "markdown",
      "metadata": {
        "id": "_AZlFVq1FSqD"
      },
      "source": [
        "### Encode categorical data."
      ]
    },
    {
      "cell_type": "code",
      "execution_count": null,
      "metadata": {
        "id": "QCyGkDkjM9Hk"
      },
      "outputs": [],
      "source": [
        "from sklearn.preprocessing import LabelEncoder\n",
        "\n",
        "le = LabelEncoder()\n",
        "cat_data = df[[\"Genes in mother's side\",'Inherited from father','Maternal gene','Paternal gene','Status',\n",
        "               'Respiratory Rate (breaths/min)','Heart Rate (rates/min','Follow-up','Gender',\n",
        "               'Folic acid details (peri-conceptional)','H/O serious maternal illness','Assisted conception IVF/ART',\n",
        "               'History of anomalies in previous pregnancies','Birth defects','Blood test result',\n",
        "               'Symptom 1','Symptom 2','Symptom 3','Symptom 4','Symptom 5', 'Disorder Subclass', 'Genetic Disorder']]\n",
        "num_data = df[['Patient Age','Blood cell count (mcL)',\"Mother's age\",\"Father's age\",'No. of previous abortion',\n",
        "               'White Blood cell count (thousand per microliter)']]\n",
        "\n",
        "cat_data.head() #check"
      ]
    },
    {
      "cell_type": "code",
      "execution_count": null,
      "metadata": {
        "id": "IUj_7W4EFrIL"
      },
      "outputs": [],
      "source": [
        "for i in cat_data:\n",
        "    cat_data[i] = le.fit_transform(cat_data[i])\n",
        "\n",
        "cat_data.head() #check"
      ]
    },
    {
      "cell_type": "code",
      "execution_count": null,
      "metadata": {
        "id": "S2UAav_zl67I"
      },
      "outputs": [],
      "source": [
        "#concatenate categorical and numerical data\n",
        "df_encoded = pd.concat([num_data, cat_data], axis=1)\n",
        "df_encoded.head()"
      ]
    },
    {
      "cell_type": "markdown",
      "metadata": {
        "id": "g7viYEQ-Y3P5"
      },
      "source": [
        "### Balance the data."
      ]
    },
    {
      "cell_type": "code",
      "execution_count": null,
      "metadata": {
        "id": "M5ALq6VJpmMl"
      },
      "outputs": [],
      "source": [
        "#standardize the data\n",
        "df_max = df_encoded.iloc[:,0:-2].max()\n",
        "df_encoded.iloc[:,0:-2] = df_encoded.iloc[:,0:-2].divide(df_max)\n",
        "\n",
        "df_encoded.describe()"
      ]
    },
    {
      "cell_type": "code",
      "execution_count": null,
      "metadata": {
        "id": "GlVqgf4Tqrxd"
      },
      "outputs": [],
      "source": [
        "#visualize before data balancing\n",
        "plt.hist(df_encoded['Genetic Disorder'])\n",
        "plt.show()"
      ]
    },
    {
      "cell_type": "code",
      "execution_count": null,
      "metadata": {
        "id": "GFcpCuBdrNvK"
      },
      "outputs": [],
      "source": [
        "#balance the data\n",
        "from imblearn.over_sampling import SMOTE\n",
        "\n",
        "x_new = df_encoded.iloc[:,0:-1]\n",
        "y_new = df_encoded.iloc[:,-1]\n",
        " \n",
        "over = SMOTE()\n",
        "\n",
        "x_new, y_new = over.fit_resample(x_new, y_new)\n",
        "\n",
        "#visualize after data balancing\n",
        "plt.hist([y_new])"
      ]
    },
    {
      "cell_type": "code",
      "source": [
        "df_balanced = pd.concat([x_new, y_new], axis=1)\n",
        "df_balanced.info()"
      ],
      "metadata": {
        "id": "doLAnTCMYmdc"
      },
      "execution_count": null,
      "outputs": []
    },
    {
      "cell_type": "code",
      "execution_count": null,
      "metadata": {
        "id": "jMNMW1zVur-9"
      },
      "outputs": [],
      "source": [
        "from keras.utils import np_utils\n",
        "\n",
        "y_new_encoded = le.fit_transform(y_new)\n",
        "y_new_encoded = np_utils.to_categorical(y_new)\n",
        "\n",
        "y_new_encoded #check"
      ]
    },
    {
      "cell_type": "markdown",
      "source": [
        "### Build the model."
      ],
      "metadata": {
        "id": "nXWriYmehH0z"
      }
    },
    {
      "cell_type": "code",
      "execution_count": null,
      "metadata": {
        "id": "ap11b29awCh0"
      },
      "outputs": [],
      "source": [
        "import tensorflow\n",
        "from tensorflow.keras.models import Sequential\n",
        "from tensorflow.keras.layers import Dense\n",
        "from tensorflow.keras.wrappers.scikit_learn import KerasClassifier\n",
        "\n",
        "def create_model():\n",
        "  model = Sequential()\n",
        "  model.add(Dense(100, input_dim = 26, activation = 'relu'))\n",
        "  model.add(Dense(64, activation = 'relu'))\n",
        "  model.add(Dense(48, activation = 'relu'))\n",
        "  model.add(Dense(32, activation = 'relu'))\n",
        "  model.add(Dense(16, activation = 'relu'))\n",
        "  model.add(Dense(8, activation = 'relu'))\n",
        "  model.add(Dense(4, activation = 'relu'))\n",
        "  model.add(Dense(3, activation = \"softmax\"))\n",
        "  model.compile(loss = 'categorical_crossentropy', optimizer = 'adam', metrics = ['accuracy'])\n",
        "  return model\n",
        "\n",
        "model = KerasClassifier(build_fn=create_model)"
      ]
    },
    {
      "cell_type": "markdown",
      "source": [
        "### Split the dataset into training and testing."
      ],
      "metadata": {
        "id": "cTtfsG2hhQkJ"
      }
    },
    {
      "cell_type": "code",
      "execution_count": null,
      "metadata": {
        "id": "mQP3K5rNwJQ9"
      },
      "outputs": [],
      "source": [
        "from sklearn.model_selection import train_test_split\n",
        "\n",
        "x = x_new.iloc[:,0:-1]\n",
        "y = y_new_encoded\n",
        "\n",
        "x_train, x_test, y_train, y_test = train_test_split(x, y, test_size=0.1)"
      ]
    },
    {
      "cell_type": "markdown",
      "metadata": {
        "id": "Y5_Pnlesihhy"
      },
      "source": [
        "### Perform hyperparameter tuning."
      ]
    },
    {
      "cell_type": "code",
      "execution_count": null,
      "metadata": {
        "id": "tXo6SfMPwHV7"
      },
      "outputs": [],
      "source": [
        "#apply grid search to find the best combination of parameters\n",
        "from sklearn.model_selection import GridSearchCV\n",
        "\n",
        "params={'batch_size':[50, 100], \n",
        "        'nb_epoch':[100, 150, 300]\n",
        "        }\n",
        "\n",
        "search = GridSearchCV(estimator=model, param_grid=params, cv=3)\n",
        "search.fit(x.values, y)\n",
        "\n",
        "print(\"Best params:\", search.best_params_)\n",
        "print(\"Best score:\", search.best_score_)"
      ]
    },
    {
      "cell_type": "markdown",
      "metadata": {
        "id": "wJuuMjTp88zd"
      },
      "source": [
        "### Perform first model run."
      ]
    },
    {
      "cell_type": "code",
      "source": [
        "#first model run has \"Genetic Disorder\" as target variable"
      ],
      "metadata": {
        "id": "H7SvMngMjDYg"
      },
      "execution_count": null,
      "outputs": []
    },
    {
      "cell_type": "code",
      "execution_count": null,
      "metadata": {
        "id": "ago_dC1p4TKN"
      },
      "outputs": [],
      "source": [
        "model = Sequential()\n",
        "model.add(Dense(100, input_dim = 26, activation = 'relu'))\n",
        "model.add(Dense(64, activation = 'relu'))\n",
        "model.add(Dense(48, activation = 'relu'))\n",
        "model.add(Dense(32, activation = 'relu'))\n",
        "model.add(Dense(16, activation = 'relu'))\n",
        "model.add(Dense(8, activation = 'relu'))\n",
        "model.add(Dense(4, activation = 'relu'))\n",
        "model.add(Dense(3, activation = \"softmax\"))\n",
        "\n",
        "model.compile(loss = 'categorical_crossentropy', optimizer = 'adam', \n",
        "              metrics = ['accuracy', 'Precision', 'Recall'])\n",
        "\n",
        "epochs = search.best_params_.get('nb_epoch')\n",
        "batch_size = search.best_params_.get('batch_size')\n",
        "\n",
        "model.fit(x.values, y, validation_split=0.2, epochs=epochs, \n",
        "          batch_size=batch_size, shuffle=True)"
      ]
    },
    {
      "cell_type": "code",
      "source": [
        "#plot the model's accuracies\n",
        "accuracy1 = model.history.history['acc']\n",
        "val_accuracy1 = model.history.history['val_acc']\n",
        "epochs = range(1,301)\n",
        "plt.plot(epochs, accuracy1, 'g', label='Training Accuracy')\n",
        "plt.plot(epochs, val_accuracy1, 'b', label='Validation Accuracy')\n",
        "plt.title('Training and Validation Accuracies')\n",
        "plt.xlabel('Epochs')\n",
        "plt.ylabel('Accuracies')\n",
        "plt.legend()\n",
        "plt.show()"
      ],
      "metadata": {
        "id": "cCXdLUG65HQf"
      },
      "execution_count": null,
      "outputs": []
    },
    {
      "cell_type": "markdown",
      "metadata": {
        "id": "UKMg4okHHqCF"
      },
      "source": [
        "### Evaluate feature importance."
      ]
    },
    {
      "cell_type": "code",
      "source": [
        "#feature importance for neural network using SHAP"
      ],
      "metadata": {
        "id": "HU_PhkRth2YB"
      },
      "execution_count": null,
      "outputs": []
    },
    {
      "cell_type": "code",
      "execution_count": null,
      "metadata": {
        "id": "z4SsPRiMI-uc"
      },
      "outputs": [],
      "source": [
        "!pip install lifelines\n",
        "!pip install shap"
      ]
    },
    {
      "cell_type": "code",
      "execution_count": null,
      "metadata": {
        "id": "PwTb_Wd5H5y7"
      },
      "outputs": [],
      "source": [
        "import matplotlib.pyplot as plt\n",
        "import sklearn\n",
        "import lifelines\n",
        "import shap\n",
        "\n",
        "\n",
        "features = ['Patient Age','Blood cell count (mcL)',\"Mother's age\",\"Father's age\",'No. of previous abortion',\n",
        "               'White Blood cell count (thousand per microliter)', \"Genes in mother's side\",'Inherited from father','Maternal gene','Paternal gene','Status',\n",
        "               'Respiratory Rate (breaths/min)','Heart Rate (rates/min','Follow-up','Gender',\n",
        "               'Folic acid details (peri-conceptional)','H/O serious maternal illness','Assisted conception IVF/ART',\n",
        "               'History of anomalies in previous pregnancies','Birth defects','Blood test result',\n",
        "               'Symptom 1','Symptom 2','Symptom 3','Symptom 4','Symptom 5']\n",
        "\n",
        "\n",
        "e = shap.DeepExplainer(model, x_train.iloc[:100, :]) #select a batch from dataset to avoid crashing"
      ]
    },
    {
      "cell_type": "code",
      "source": [
        "#plot bar graph of features' shap values\n",
        "shap_values = e.shap_values(x_test.iloc[:10,:].values)\n",
        "shap.summary_plot(shap_values[0],x_test,feature_names=features, plot_type=\"bar\",show=False)\n",
        "plt.savefig('summary.png')"
      ],
      "metadata": {
        "id": "SqpNvDrJE0o4"
      },
      "execution_count": null,
      "outputs": []
    },
    {
      "cell_type": "code",
      "source": [
        "shap.initjs()\n",
        "# visualize the importance of all the features\n",
        "r = shap.force_plot(e.expected_value[0], shap_values[0], feature_names=x_train.columns,show=False)\n",
        "shap.save_html(\"all_features.html\", r)\n",
        "\n",
        "r"
      ],
      "metadata": {
        "id": "sgTMjnM6Mklx"
      },
      "execution_count": null,
      "outputs": []
    },
    {
      "cell_type": "code",
      "source": [
        "vals = e.shap_values(x_test[:1].values)\n",
        "shap.initjs()\n",
        "#visualize the feature importance for the first test sample\n",
        "features_importance = shap.force_plot(e.expected_value[0], vals[0], x_test.iloc[0,:],show=False)\n",
        "shap.save_html(\"features_importance.html\", features_importance)\n",
        "\n",
        "features_importance"
      ],
      "metadata": {
        "id": "qxxZPenvMFLt"
      },
      "execution_count": null,
      "outputs": []
    },
    {
      "cell_type": "markdown",
      "metadata": {
        "id": "KpaOywDk0ZLz"
      },
      "source": [
        "### Perform second model run."
      ]
    },
    {
      "cell_type": "code",
      "source": [
        "#second model run has \"Disorder Subclass\" as target variable, and \"Genetic Disorder\" output from first run as a feature"
      ],
      "metadata": {
        "id": "dLJG706VjOaP"
      },
      "execution_count": null,
      "outputs": []
    },
    {
      "cell_type": "code",
      "execution_count": null,
      "metadata": {
        "id": "PTLYKRUxx5_t"
      },
      "outputs": [],
      "source": [
        "df_balanced = df_balanced[['Patient Age', 'Blood cell count (mcL)', \"Mother's age\", \"Father's age\",\n",
        "       'No. of previous abortion',\n",
        "       'White Blood cell count (thousand per microliter)',\n",
        "       \"Genes in mother's side\", \"Inherited from father\", 'Maternal gene',\n",
        "       'Paternal gene', 'Status', 'Respiratory Rate (breaths/min)',\n",
        "       'Heart Rate (rates/min', 'Follow-up', 'Gender',\n",
        "       'Folic acid details (peri-conceptional)',\n",
        "       'H/O serious maternal illness', 'Assisted conception IVF/ART',\n",
        "       'History of anomalies in previous pregnancies', 'Birth defects',\n",
        "       'Blood test result', 'Symptom 1', 'Symptom 2', 'Symptom 3', 'Symptom 4',\n",
        "       'Symptom 5', 'Genetic Disorder', 'Disorder Subclass']]\n",
        "\n",
        "df_balanced.head()"
      ]
    },
    {
      "cell_type": "code",
      "source": [
        "#standardize \"Genetic Disorder\" values\n",
        "df_balanced['Genetic Disorder'] = df_balanced['Genetic Disorder'].divide(2)\n",
        "df_balanced['Genetic Disorder']"
      ],
      "metadata": {
        "id": "0OkzTickgU08"
      },
      "execution_count": null,
      "outputs": []
    },
    {
      "cell_type": "code",
      "source": [
        "#visualize \"Disorder Subclass\" data\n",
        "plt.hist(df_balanced['Disorder Subclass'])\n",
        "plt.show()"
      ],
      "metadata": {
        "id": "Is-r1vdovY6S"
      },
      "execution_count": null,
      "outputs": []
    },
    {
      "cell_type": "code",
      "source": [
        "#encode target variable\n",
        "y = le.fit_transform(df_balanced.iloc[:,-1])\n",
        "y = np_utils.to_categorical(y)\n",
        "\n",
        "y"
      ],
      "metadata": {
        "id": "8HoMZ8ae-yRV"
      },
      "execution_count": null,
      "outputs": []
    },
    {
      "cell_type": "code",
      "source": [
        "#split the dataset into training and testing\n",
        "x = df_balanced.iloc[:,0:-1]\n",
        "\n",
        "x_train, x_test, y_train, y_test = train_test_split(x, y)"
      ],
      "metadata": {
        "id": "45RXWHJv-skA"
      },
      "execution_count": null,
      "outputs": []
    },
    {
      "cell_type": "code",
      "source": [
        "#second model run\n",
        "model2 = Sequential()\n",
        "model2.add(Dense(100, input_dim = 27, activation = 'relu'))\n",
        "model2.add(Dense(64, activation = 'relu'))\n",
        "model2.add(Dense(48, activation = 'relu'))\n",
        "model2.add(Dense(32, activation = 'relu'))\n",
        "model2.add(Dense(16, activation = 'relu'))\n",
        "model2.add(Dense(8, activation = 'relu'))\n",
        "model2.add(Dense(4, activation = 'relu'))\n",
        "model2.add(Dense(9, activation = \"softmax\"))\n",
        "\n",
        "model2.compile(loss = 'categorical_crossentropy', optimizer = 'adam', metrics = ['accuracy', 'Precision', 'Recall'])\n",
        "\n",
        "epochs = search.best_params_.get('nb_epoch')\n",
        "batch_size = search.best_params_.get('batch_size')\n",
        "\n",
        "model2.fit(x.values, y, validation_split=0.2, epochs=epochs, \n",
        "          batch_size=batch_size, shuffle=True)"
      ],
      "metadata": {
        "id": "0uzeYymjw8J7"
      },
      "execution_count": null,
      "outputs": []
    },
    {
      "cell_type": "code",
      "source": [
        "#plot the model's accuracies\n",
        "accuracy2 = model2.history.history['acc']\n",
        "val_accuracy2 = model2.history.history['val_acc']\n",
        "epochs = range(1,301)\n",
        "plt.plot(epochs, accuracy2, 'g', label='Training Accuracy')\n",
        "plt.plot(epochs, val_accuracy2, 'b', label='Validation Accuracy')\n",
        "plt.title('Training and Validation Accuracies')\n",
        "plt.xlabel('Epochs')\n",
        "plt.ylabel('Accuracies')\n",
        "plt.legend()\n",
        "plt.show()"
      ],
      "metadata": {
        "id": "W_5JgRIO6N9-"
      },
      "execution_count": null,
      "outputs": []
    },
    {
      "cell_type": "code",
      "source": [
        "#apply SHAP\n",
        "e = shap.DeepExplainer(model2,  x_train.iloc[:50, :])\n",
        "#plot bar graph of features' shap values\n",
        "shap_values = e.shap_values(x_test.iloc[:10,:].values)\n",
        "shap.summary_plot(shap_values[0],x_test,feature_names=df_encoded.columns[:-1], plot_type=\"bar\",show=False)\n",
        "plt.savefig('summary_subclass.png')"
      ],
      "metadata": {
        "id": "loDqe4xM_N2A"
      },
      "execution_count": null,
      "outputs": []
    },
    {
      "cell_type": "code",
      "source": [
        "vals = e.shap_values(x_test[:1].values)\n",
        "shap.initjs()\n",
        "#visualize the feature importance for the first test sample\n",
        "features_importance_subclass = shap.force_plot(e.expected_value[0], vals[0], x_test.iloc[0,:],show=False)\n",
        "shap.save_html(\"features_importance_subclass.html\", features_importance_subclass)\n",
        "\n",
        "features_importance_subclass"
      ],
      "metadata": {
        "id": "AsOJ-VpbsQ5B"
      },
      "execution_count": null,
      "outputs": []
    },
    {
      "cell_type": "markdown",
      "source": [
        "### ***For Testing purposes: do a model run just on \"Disorder Subclass\", and dropping the \"Genetic Disorder\" altogether.***"
      ],
      "metadata": {
        "id": "ouTfPkmwBIUI"
      }
    },
    {
      "cell_type": "code",
      "source": [
        "#drop the \"Genetic Disorder\" column\n",
        "df_subclass = df_encoded.drop(columns=['Genetic Disorder'])\n",
        "\n",
        "df_subclass.head()"
      ],
      "metadata": {
        "id": "9rxZF4YJArSD"
      },
      "execution_count": null,
      "outputs": []
    },
    {
      "cell_type": "code",
      "source": [
        "#balance the data for \"Disorder Subclass\", the target variable\n",
        "x_subclass = df_subclass.iloc[:,0:-1]\n",
        "y_subclass = df_subclass.iloc[:,-1]\n",
        " \n",
        "over = SMOTE()\n",
        "\n",
        "x_subclass, y_subclass = over.fit_resample(x_subclass, y_subclass)\n",
        "\n",
        "plt.hist([y_subclass])"
      ],
      "metadata": {
        "id": "D2t1cc9oEXTO"
      },
      "execution_count": null,
      "outputs": []
    },
    {
      "cell_type": "code",
      "source": [
        "y_subclass = le.fit_transform(y_subclass)\n",
        "y_subclass = np_utils.to_categorical(y_subclass)\n",
        "\n",
        "y_subclass"
      ],
      "metadata": {
        "id": "H0EgkmyMBVLC"
      },
      "execution_count": null,
      "outputs": []
    },
    {
      "cell_type": "code",
      "source": [
        "#split the dataset into training and testing\n",
        "x_train, x_test, y_train, y_test = train_test_split(x_subclass, y_subclass)"
      ],
      "metadata": {
        "id": "l1U1I1EFBs-G"
      },
      "execution_count": null,
      "outputs": []
    },
    {
      "cell_type": "code",
      "source": [
        "#perform the model run\n",
        "model3 = Sequential()\n",
        "model3.add(Dense(100, input_dim = 26, activation = 'relu'))\n",
        "model3.add(Dense(64, activation = 'relu'))\n",
        "model3.add(Dense(48, activation = 'relu'))\n",
        "model3.add(Dense(32, activation = 'relu'))\n",
        "model3.add(Dense(16, activation = 'relu'))\n",
        "model3.add(Dense(8, activation = 'relu'))\n",
        "model3.add(Dense(4, activation = 'relu'))\n",
        "model3.add(Dense(9, activation = \"softmax\"))\n",
        "\n",
        "model3.compile(loss = 'categorical_crossentropy', optimizer = 'adam', metrics = ['accuracy', 'Precision', 'Recall'])\n",
        "\n",
        "epochs = search.best_params_.get('nb_epoch')\n",
        "batch_size = search.best_params_.get('batch_size')\n",
        "\n",
        "model3.fit(x_subclass.values, y_subclass, validation_split=0.2, epochs=epochs, \n",
        "          batch_size=epochs, shuffle=True)"
      ],
      "metadata": {
        "id": "rE_R1Iz1CGf3"
      },
      "execution_count": null,
      "outputs": []
    },
    {
      "cell_type": "code",
      "source": [
        "#plot the model's accuracies\n",
        "accuracy3 = model3.history.history['acc']\n",
        "val_accuracy3 = model3.history.history['val_acc']\n",
        "epochs = range(1,301)\n",
        "plt.plot(epochs, accuracy3, 'g', label='Training Accuracy')\n",
        "plt.plot(epochs, val_accuracy3, 'b', label='Validation Accuracy')\n",
        "plt.title('Training and Validation Accuracies')\n",
        "plt.xlabel('Epochs')\n",
        "plt.ylabel('Accuracies')\n",
        "plt.legend()\n",
        "plt.show()"
      ],
      "metadata": {
        "id": "H7mmAmqS6VHM"
      },
      "execution_count": null,
      "outputs": []
    },
    {
      "cell_type": "code",
      "source": [
        "#apply SHAP\n",
        "e = shap.DeepExplainer(model3,  x_train.iloc[:50, :])\n",
        "#plot bar graph of features' shap values\n",
        "shap_values = e.shap_values(x_test.iloc[:10,:].values)\n",
        "shap.summary_plot(shap_values[0],x_test,feature_names=df_encoded.columns[:-1], plot_type=\"bar\",show=False)\n",
        "plt.savefig('summary_subclass_alone.png')"
      ],
      "metadata": {
        "id": "gvbok5-gwgHk"
      },
      "execution_count": null,
      "outputs": []
    },
    {
      "cell_type": "code",
      "source": [
        "e = shap.KernelExplainer(model3.predict, x_train.head(50))\n",
        "shap_values = e.shap_values(x_test.iloc[0,:])\n",
        "shap.initjs()\n",
        "#visualize the feature importance for the first test sample\n",
        "shap.force_plot(e.expected_value[0], shap_values[0], x_test.iloc[0,:])"
      ],
      "metadata": {
        "id": "_xHLDZNXCU8k"
      },
      "execution_count": null,
      "outputs": []
    }
  ],
  "metadata": {
    "colab": {
      "collapsed_sections": [],
      "name": "Genetic_Disorder_Prediction_Part2.ipynb",
      "provenance": [],
      "toc_visible": true,
      "include_colab_link": true
    },
    "kernelspec": {
      "display_name": "Python 3",
      "name": "python3"
    },
    "language_info": {
      "name": "python"
    }
  },
  "nbformat": 4,
  "nbformat_minor": 0
}