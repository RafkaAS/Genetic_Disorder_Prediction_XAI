{
  "nbformat": 4,
  "nbformat_minor": 0,
  "metadata": {
    "colab": {
      "name": "Genetic_Disorder_Prediction_Part1.ipynb",
      "provenance": [],
      "collapsed_sections": [],
      "toc_visible": true,
      "include_colab_link": true
    },
    "kernelspec": {
      "name": "python3",
      "display_name": "Python 3"
    },
    "language_info": {
      "name": "python"
    }
  },
  "cells": [
    {
      "cell_type": "markdown",
      "metadata": {
        "id": "view-in-github",
        "colab_type": "text"
      },
      "source": [
        "<a href=\"https://colab.research.google.com/github/RafkaAS/Genetic_Disorder_Prediction_XAI/blob/main/Genetic_Disorder_Prediction_Part1.ipynb\" target=\"_parent\"><img src=\"https://colab.research.google.com/assets/colab-badge.svg\" alt=\"Open In Colab\"/></a>"
      ]
    },
    {
      "cell_type": "markdown",
      "source": [
        "# **Case Study: Genetic Disorder Prediction Using XAI**"
      ],
      "metadata": {
        "id": "nZGUDKTmxjY8"
      }
    },
    {
      "cell_type": "markdown",
      "source": [
        "## **EDA & Data Preprocessing**"
      ],
      "metadata": {
        "id": "p0IuIZ7t7EXP"
      }
    },
    {
      "cell_type": "markdown",
      "source": [
        "### Import libraries."
      ],
      "metadata": {
        "id": "_ufxhLyGDfG9"
      }
    },
    {
      "cell_type": "code",
      "source": [
        "import pandas as pd \n",
        "import numpy as np\n",
        "import matplotlib.pyplot as plt"
      ],
      "metadata": {
        "id": "euRUnLg0DenU"
      },
      "execution_count": null,
      "outputs": []
    },
    {
      "cell_type": "markdown",
      "source": [
        "### Load the dataset."
      ],
      "metadata": {
        "id": "zDN-cLlfDLLj"
      }
    },
    {
      "cell_type": "code",
      "source": [
        "#install Kaggle\n",
        "!wget \"https://docs.google.com/uc?export=download&id=1Nrj8zK6bpHkdoi11gcWWLJSsSCCuMPRY\" -O \"kaggle.json\"  \n",
        "\n",
        "! pip install -q kaggle\n",
        "! mkdir ~/.kaggle\n",
        "! cp kaggle.json ~/.kaggle/\n",
        "! chmod 600 ~/.kaggle/kaggle.json"
      ],
      "metadata": {
        "id": "p-szBUJQE3Mt"
      },
      "execution_count": null,
      "outputs": []
    },
    {
      "cell_type": "code",
      "source": [
        "#check if Kaggle installation worked successfully\n",
        "! kaggle datasets list"
      ],
      "metadata": {
        "id": "UkFHxcWOyfft"
      },
      "execution_count": null,
      "outputs": []
    },
    {
      "cell_type": "code",
      "source": [
        "#load Kaggle dataset\n",
        "! kaggle datasets download imsparsh/of-genomes-and-genetics-hackerearth-ml"
      ],
      "metadata": {
        "id": "ZhpT19lFE6lJ"
      },
      "execution_count": null,
      "outputs": []
    },
    {
      "cell_type": "code",
      "source": [
        "#unzip the dataset folder\n",
        "! unzip of-genomes-and-genetics-hackerearth-ml.zip"
      ],
      "metadata": {
        "id": "YkAg_8oTFLRP"
      },
      "execution_count": null,
      "outputs": []
    },
    {
      "cell_type": "markdown",
      "source": [
        "### Read and visualize the dataset."
      ],
      "metadata": {
        "id": "52XT1jTo03V2"
      }
    },
    {
      "cell_type": "code",
      "execution_count": null,
      "metadata": {
        "id": "KVe0e42d9RQj"
      },
      "outputs": [],
      "source": [
        "#read the train dataset\n",
        "df = pd.read_csv('train.csv')\n",
        "\n",
        "df.head()"
      ]
    },
    {
      "cell_type": "markdown",
      "source": [
        "### Perform exploratory data analysis (EDA)."
      ],
      "metadata": {
        "id": "ljhMGfpkzRT1"
      }
    },
    {
      "cell_type": "code",
      "source": [
        "#determine the shape of the dataset\n",
        "nRow, nCol = df.shape\n",
        "print(f'There are {nRow} rows and {nCol} columns.')"
      ],
      "metadata": {
        "id": "IHdUURcFFrlK"
      },
      "execution_count": null,
      "outputs": []
    },
    {
      "cell_type": "code",
      "source": [
        "#check the datatype, missing values, etc.\n",
        "df.info()"
      ],
      "metadata": {
        "id": "L7aoS5hs0psR"
      },
      "execution_count": null,
      "outputs": []
    },
    {
      "cell_type": "code",
      "source": [
        "#check the mean, std, min, max, etc. values for numerical features\n",
        "df.describe()"
      ],
      "metadata": {
        "id": "9LngGYGCOOtm"
      },
      "execution_count": null,
      "outputs": []
    },
    {
      "cell_type": "code",
      "source": [
        "#check count, unique, top, freq for categorical features\n",
        "df.describe(include='O')"
      ],
      "metadata": {
        "id": "9bTu6E6Y9yvy"
      },
      "execution_count": null,
      "outputs": []
    },
    {
      "cell_type": "markdown",
      "source": [
        "### Drop unnecessary features."
      ],
      "metadata": {
        "id": "1Ckqc2Cx2JtM"
      }
    },
    {
      "cell_type": "code",
      "source": [
        "df = df.drop(columns=['Patient Id', 'Patient First Name', 'Family Name',\n",
        "       \"Father's name\", 'Institute Name','Location of Institute','Parental consent',\n",
        "       'Place of birth', 'Test 1', 'Test 2', 'Test 3', 'Test 4', 'Test 5'])\n",
        "\n",
        "df.info() #check"
      ],
      "metadata": {
        "id": "Ej430WgK2Ufu"
      },
      "execution_count": null,
      "outputs": []
    },
    {
      "cell_type": "markdown",
      "source": [
        "### Visualize the features, and identify any anomalies."
      ],
      "metadata": {
        "id": "kiiA3EY2GlG6"
      }
    },
    {
      "cell_type": "code",
      "source": [
        "df['Patient Age'].plot(kind = 'hist')\n",
        "plt.show()\n",
        "df['Gender'].value_counts().plot(kind = 'bar')\n",
        "plt.show()"
      ],
      "metadata": {
        "id": "etfF2N5C27YA"
      },
      "execution_count": null,
      "outputs": []
    },
    {
      "cell_type": "code",
      "source": [
        "df[\"Mother's age\"].plot(kind = 'hist')\n",
        "plt.show()\n",
        "df[\"Father's age\"].plot(kind = 'hist')\n",
        "plt.show()"
      ],
      "metadata": {
        "id": "i_Egp_DL4GDN"
      },
      "execution_count": null,
      "outputs": []
    },
    {
      "cell_type": "code",
      "source": [
        "df[\"Genes in mother's side\"].value_counts().plot(kind = 'bar')\n",
        "plt.show()\n",
        "df[\"Inherited from father\"].value_counts().plot(kind = 'bar')\n",
        "plt.show()"
      ],
      "metadata": {
        "id": "lg55qZ063L11"
      },
      "execution_count": null,
      "outputs": []
    },
    {
      "cell_type": "code",
      "source": [
        "df['Maternal gene'].value_counts().plot(kind = 'bar')\n",
        "plt.show()\n",
        "df['Paternal gene'].value_counts().plot(kind = 'bar')\n",
        "plt.show()"
      ],
      "metadata": {
        "id": "GBJccHBd3uEz"
      },
      "execution_count": null,
      "outputs": []
    },
    {
      "cell_type": "code",
      "source": [
        "df['Blood cell count (mcL)'].plot(kind = 'hist')\n",
        "plt.show()\n",
        "df['White Blood cell count (thousand per microliter)'].plot(kind = 'hist')\n",
        "plt.show()\n",
        "df['Blood test result'].value_counts().plot(kind = 'bar')\n",
        "plt.show()\n",
        "df['Folic acid details (peri-conceptional)'].value_counts().plot(kind = 'bar')\n",
        "plt.show()"
      ],
      "metadata": {
        "id": "pQLg-tLf37lE"
      },
      "execution_count": null,
      "outputs": []
    },
    {
      "cell_type": "code",
      "source": [
        "df['Respiratory Rate (breaths/min)'].value_counts().plot(kind = 'bar')\n",
        "plt.show()\n",
        "df['Heart Rate (rates/min'].value_counts().plot(kind = 'bar')\n",
        "plt.show()"
      ],
      "metadata": {
        "id": "yldcDmcJ4lcL"
      },
      "execution_count": null,
      "outputs": []
    },
    {
      "cell_type": "code",
      "source": [
        "df['Status'].value_counts().plot(kind = 'bar')"
      ],
      "metadata": {
        "id": "FbX3cUn74VkU"
      },
      "execution_count": null,
      "outputs": []
    },
    {
      "cell_type": "code",
      "source": [
        "df['Follow-up'].value_counts().plot(kind = 'bar')"
      ],
      "metadata": {
        "id": "MOz-1z744y-i"
      },
      "execution_count": null,
      "outputs": []
    },
    {
      "cell_type": "code",
      "source": [
        "df['Birth asphyxia'].value_counts().plot(kind = 'bar')\n",
        "plt.show()\n",
        "df['Birth defects'].value_counts().plot(kind = 'bar')\n",
        "plt.show()\n",
        "df['Autopsy shows birth defect (if applicable)'].value_counts().plot(kind = 'bar')\n",
        "plt.show()"
      ],
      "metadata": {
        "id": "mtXT4cmu5C3Z"
      },
      "execution_count": null,
      "outputs": []
    },
    {
      "cell_type": "code",
      "source": [
        "df['H/O serious maternal illness'].value_counts().plot(kind = 'bar')\n",
        "plt.show()\n",
        "df['H/O radiation exposure (x-ray)'].value_counts().plot(kind = 'bar')\n",
        "plt.show()\n",
        "df['H/O substance abuse'].value_counts().plot(kind = 'bar')\n",
        "plt.show()\n",
        "df['Assisted conception IVF/ART'].value_counts().plot(kind = 'bar')\n",
        "plt.show()\n",
        "df['History of anomalies in previous pregnancies'].value_counts().plot(kind = 'bar')\n",
        "plt.show()\n",
        "df['No. of previous abortion'].value_counts().plot(kind = 'bar')\n",
        "plt.show()"
      ],
      "metadata": {
        "id": "_xa3JSdF5nu6"
      },
      "execution_count": null,
      "outputs": []
    },
    {
      "cell_type": "code",
      "source": [
        "df['Symptom 1'].value_counts().plot(kind = 'bar')\n",
        "plt.show()\n",
        "df['Symptom 2'].value_counts().plot(kind = 'bar')\n",
        "plt.show()\n",
        "df['Symptom 3'].value_counts().plot(kind = 'bar')\n",
        "plt.show()\n",
        "df['Symptom 4'].value_counts().plot(kind = 'bar')\n",
        "plt.show()\n",
        "df['Symptom 5'].value_counts().plot(kind = 'bar')\n",
        "plt.show()"
      ],
      "metadata": {
        "id": "_1uSMfhd6puH"
      },
      "execution_count": null,
      "outputs": []
    },
    {
      "cell_type": "code",
      "source": [
        "df['Genetic Disorder'].value_counts().plot(kind = 'bar')\n",
        "plt.show()\n",
        "df['Disorder Subclass'].value_counts().plot(kind = 'bar')\n",
        "plt.show()"
      ],
      "metadata": {
        "id": "ONyMZzYyGNPF"
      },
      "execution_count": null,
      "outputs": []
    },
    {
      "cell_type": "markdown",
      "source": [
        "### Perform cross-tabbing to identify potential correlations between features."
      ],
      "metadata": {
        "id": "oTcsM2TW6_Rh"
      }
    },
    {
      "cell_type": "code",
      "source": [
        "#if any has strong correlation with class prediction, check for subclass prediction next."
      ],
      "metadata": {
        "id": "sRliciusEWxF"
      },
      "execution_count": null,
      "outputs": []
    },
    {
      "cell_type": "code",
      "source": [
        "age = pd.crosstab(df['Patient Age'],df['Genetic Disorder'])\n",
        "age.plot(kind='bar')"
      ],
      "metadata": {
        "id": "k1Mxk3d6--_g"
      },
      "execution_count": null,
      "outputs": []
    },
    {
      "cell_type": "code",
      "source": [
        "gender = pd.crosstab(df['Gender'],df['Genetic Disorder'])\n",
        "gender.plot(kind='bar')"
      ],
      "metadata": {
        "id": "JdCpSU-y_UFe"
      },
      "execution_count": null,
      "outputs": []
    },
    {
      "cell_type": "code",
      "source": [
        "mom_age = pd.crosstab(df[\"Mother's age\"],df['Genetic Disorder'])\n",
        "mom_age.plot(kind='bar')"
      ],
      "metadata": {
        "id": "Xx31ggIc_oZO"
      },
      "execution_count": null,
      "outputs": []
    },
    {
      "cell_type": "code",
      "source": [
        "dad_age = pd.crosstab(df[\"Father's age\"],df['Genetic Disorder'])\n",
        "dad_age.plot(kind='bar')"
      ],
      "metadata": {
        "id": "dz9oFDM2_2WO"
      },
      "execution_count": null,
      "outputs": []
    },
    {
      "cell_type": "code",
      "source": [
        "mom_side_genes = pd.crosstab(df[\"Genes in mother's side\"],df['Genetic Disorder'])\n",
        "mom_side_genes.plot(kind='bar')"
      ],
      "metadata": {
        "id": "rq_SPos5_6X9"
      },
      "execution_count": null,
      "outputs": []
    },
    {
      "cell_type": "code",
      "source": [
        "dad_side_genes = pd.crosstab(df[\"Inherited from father\"],df['Genetic Disorder'])\n",
        "dad_side_genes.plot(kind='bar')"
      ],
      "metadata": {
        "id": "pt6mLaTrAI1V"
      },
      "execution_count": null,
      "outputs": []
    },
    {
      "cell_type": "code",
      "source": [
        "maternal_gene = pd.crosstab(df['Maternal gene'],df['Genetic Disorder'])\n",
        "maternal_gene.plot(kind='bar')"
      ],
      "metadata": {
        "id": "nBRoeeCBAXOv"
      },
      "execution_count": null,
      "outputs": []
    },
    {
      "cell_type": "code",
      "source": [
        "paternal_gene = pd.crosstab(df['Paternal gene'],df['Genetic Disorder'])\n",
        "paternal_gene.plot(kind='bar')"
      ],
      "metadata": {
        "id": "WlQcLahRAZku"
      },
      "execution_count": null,
      "outputs": []
    },
    {
      "cell_type": "code",
      "source": [
        "# blood_cell_count = pd.crosstab(df['Blood cell count (mcL)'],df['Genetic Disorder'])\n",
        "# blood_cell_count.plot(kind='bar')"
      ],
      "metadata": {
        "id": "BTEbeutfA59s"
      },
      "execution_count": null,
      "outputs": []
    },
    {
      "cell_type": "code",
      "source": [
        "# white_blood = pd.crosstab(df['White Blood cell count (thousand per microliter)'],df['Genetic Disorder'])\n",
        "# white_blood.plot(kind='bar')"
      ],
      "metadata": {
        "id": "GT8jrN55ApI4"
      },
      "execution_count": null,
      "outputs": []
    },
    {
      "cell_type": "code",
      "source": [
        "blood_test = pd.crosstab(df['Blood test result'],df['Genetic Disorder'])\n",
        "blood_test.plot(kind='bar')"
      ],
      "metadata": {
        "id": "tqnuKBmsBD-M"
      },
      "execution_count": null,
      "outputs": []
    },
    {
      "cell_type": "code",
      "source": [
        "folic_acid = pd.crosstab(df['Folic acid details (peri-conceptional)'],df['Genetic Disorder'])\n",
        "folic_acid.plot(kind='bar')"
      ],
      "metadata": {
        "id": "LYkDLmSlBbJO"
      },
      "execution_count": null,
      "outputs": []
    },
    {
      "cell_type": "code",
      "source": [
        "respiratory_rate = pd.crosstab(df['Respiratory Rate (breaths/min)'],df['Genetic Disorder'])\n",
        "respiratory_rate.plot(kind='bar')"
      ],
      "metadata": {
        "id": "-xzqBNVXBlGZ"
      },
      "execution_count": null,
      "outputs": []
    },
    {
      "cell_type": "code",
      "source": [
        "heart_rate = pd.crosstab(df['Heart Rate (rates/min'],df['Genetic Disorder'])\n",
        "heart_rate.plot(kind='bar')"
      ],
      "metadata": {
        "id": "CLRjWivuBxrn"
      },
      "execution_count": null,
      "outputs": []
    },
    {
      "cell_type": "code",
      "source": [
        "status = pd.crosstab(df['Status'],df['Genetic Disorder'])\n",
        "status.plot(kind='bar')"
      ],
      "metadata": {
        "id": "5VgiQbd3CDrb"
      },
      "execution_count": null,
      "outputs": []
    },
    {
      "cell_type": "code",
      "source": [
        "follow_up = pd.crosstab(df['Follow-up'],df['Genetic Disorder'])\n",
        "follow_up.plot(kind='bar')"
      ],
      "metadata": {
        "id": "5zuyp_vICDS5"
      },
      "execution_count": null,
      "outputs": []
    },
    {
      "cell_type": "code",
      "source": [
        "birth_asphyxia = pd.crosstab(df['Birth asphyxia'],df['Genetic Disorder'])\n",
        "birth_asphyxia.plot(kind='bar')"
      ],
      "metadata": {
        "id": "4qTEEEM1B9JR"
      },
      "execution_count": null,
      "outputs": []
    },
    {
      "cell_type": "code",
      "source": [
        "birth_defects = pd.crosstab(df['Birth defects'],df['Genetic Disorder'])\n",
        "birth_defects.plot(kind='bar')"
      ],
      "metadata": {
        "id": "IgeFLkwUCOwS"
      },
      "execution_count": null,
      "outputs": []
    },
    {
      "cell_type": "code",
      "source": [
        "autopsy_birth_defects = pd.crosstab(df['Autopsy shows birth defect (if applicable)'],df['Genetic Disorder'])\n",
        "autopsy_birth_defects.plot(kind='bar')"
      ],
      "metadata": {
        "id": "1kBJ6na-CZGU"
      },
      "execution_count": null,
      "outputs": []
    },
    {
      "cell_type": "code",
      "source": [
        "history_maternal_illness = pd.crosstab(df['H/O serious maternal illness'],df['Genetic Disorder'])\n",
        "history_maternal_illness.plot(kind='bar')"
      ],
      "metadata": {
        "id": "OtNjspl1CkmR"
      },
      "execution_count": null,
      "outputs": []
    },
    {
      "cell_type": "code",
      "source": [
        "history_radiation = pd.crosstab(df['H/O radiation exposure (x-ray)'],df['Genetic Disorder'])\n",
        "history_radiation.plot(kind='bar')"
      ],
      "metadata": {
        "id": "CgHzfWIGC1Bv"
      },
      "execution_count": null,
      "outputs": []
    },
    {
      "cell_type": "code",
      "source": [
        "history_substance_abuse = pd.crosstab(df['H/O substance abuse'],df['Genetic Disorder'])\n",
        "history_substance_abuse.plot(kind='bar')"
      ],
      "metadata": {
        "id": "PhnkcfFNC_VQ"
      },
      "execution_count": null,
      "outputs": []
    },
    {
      "cell_type": "code",
      "source": [
        "ivf = pd.crosstab(df['Assisted conception IVF/ART'],df['Genetic Disorder'])\n",
        "ivf.plot(kind='bar')"
      ],
      "metadata": {
        "id": "CyU6R8rEDMNP"
      },
      "execution_count": null,
      "outputs": []
    },
    {
      "cell_type": "code",
      "source": [
        "anom_prev_preg = pd.crosstab(df['History of anomalies in previous pregnancies'],df['Genetic Disorder'])\n",
        "anom_prev_preg.plot(kind='bar')"
      ],
      "metadata": {
        "id": "ofrs8J7YDXqL"
      },
      "execution_count": null,
      "outputs": []
    },
    {
      "cell_type": "code",
      "source": [
        "abortion = pd.crosstab(df['No. of previous abortion'],df['Genetic Disorder'])\n",
        "abortion.plot(kind='bar')"
      ],
      "metadata": {
        "id": "Vj85FpGlDiMt"
      },
      "execution_count": null,
      "outputs": []
    },
    {
      "cell_type": "code",
      "source": [
        "symptom_1 = pd.crosstab(df['Symptom 1'],df['Genetic Disorder'])\n",
        "symptom_1.plot(kind='bar')\n",
        "\n",
        "symptom_2 = pd.crosstab(df['Symptom 2'],df['Genetic Disorder'])\n",
        "symptom_2.plot(kind='bar')\n",
        "\n",
        "symptom_3 = pd.crosstab(df['Symptom 3'],df['Genetic Disorder'])\n",
        "symptom_3.plot(kind='bar')\n",
        "\n",
        "symptom_4 = pd.crosstab(df['Symptom 4'],df['Genetic Disorder'])\n",
        "symptom_4.plot(kind='bar')\n",
        "\n",
        "symptom_5 = pd.crosstab(df['Symptom 5'],df['Genetic Disorder'])\n",
        "symptom_5.plot(kind='bar')"
      ],
      "metadata": {
        "id": "tiDxGyVfDrmZ"
      },
      "execution_count": null,
      "outputs": []
    },
    {
      "cell_type": "code",
      "source": [
        "subclass_disorder = pd.crosstab(df[\"Genetic Disorder\"],df[\"Disorder Subclass\"], margins=True)\n",
        "subclass_disorder"
      ],
      "metadata": {
        "id": "NyZKloY8H8b1"
      },
      "execution_count": null,
      "outputs": []
    },
    {
      "cell_type": "markdown",
      "source": [
        "### Treat missing data."
      ],
      "metadata": {
        "id": "cTQkK2Dc9Y_Q"
      }
    },
    {
      "cell_type": "code",
      "source": [
        "#check if there are null values\n",
        "df.isnull().sum()"
      ],
      "metadata": {
        "id": "2AK8otA8GEf5"
      },
      "execution_count": null,
      "outputs": []
    },
    {
      "cell_type": "code",
      "source": [
        "#drop columns with low importance\n",
        "df = df.drop(columns=['Birth asphyxia', 'Autopsy shows birth defect (if applicable)',\n",
        "                      'H/O radiation exposure (x-ray)', 'H/O substance abuse'])\n",
        "\n",
        "df.info()"
      ],
      "metadata": {
        "id": "fIHgTuQBC2BB"
      },
      "execution_count": null,
      "outputs": []
    },
    {
      "cell_type": "code",
      "source": [
        "#delete rows, or replace with mode if categorical and mean/median if numerical\n",
        "df = df.dropna(subset=['Inherited from father'])\n",
        "df['Patient Age'] = df['Patient Age'].fillna(df['Patient Age'].mean())\n",
        "df[\"Mother's age\"] = df[\"Mother's age\"].fillna(df[\"Mother's age\"].mean())\n",
        "df[\"Father's age\"] = df[\"Father's age\"].fillna(df[\"Father's age\"].mean())\n",
        "df[\"Blood cell count (mcL)\"] = df[\"Blood cell count (mcL)\"].fillna(df[\"Blood cell count (mcL)\"].mean())\n",
        "df[\"White Blood cell count (thousand per microliter)\"] = df[\"White Blood cell count (thousand per microliter)\"].fillna(df[\"White Blood cell count (thousand per microliter)\"].mean())\n",
        "df[\"No. of previous abortion\"] = df[\"No. of previous abortion\"].fillna(df[\"No. of previous abortion\"].median())\n",
        "\n",
        "df['Symptom 1'] = df['Symptom 1'].fillna(df['Symptom 1'].mode()[0])\n",
        "df['Symptom 2'] = df['Symptom 2'].fillna(df['Symptom 2'].mode()[0])\n",
        "df['Symptom 3'] = df['Symptom 3'].fillna(df['Symptom 3'].mode()[0])\n",
        "df['Symptom 4'] = df['Symptom 4'].fillna(df['Symptom 4'].mode()[0])\n",
        "df['Symptom 5'] = df['Symptom 5'].fillna(df['Symptom 5'].mode()[0])\n",
        "df['Gender'] = df['Gender'].fillna(df['Gender'].mode()[0])\n",
        "df['Maternal gene'] = df['Maternal gene'].fillna(df['Maternal gene'].mode()[0])\n",
        "df['Respiratory Rate (breaths/min)'] = df['Respiratory Rate (breaths/min)'].fillna(df['Respiratory Rate (breaths/min)'].mode()[0])\n",
        "df['Heart Rate (rates/min'] = df['Heart Rate (rates/min'].fillna(df['Heart Rate (rates/min'].mode()[0])\n",
        "df['Follow-up'] = df['Follow-up'].fillna(df['Follow-up'].mode()[0])\n",
        "df['Folic acid details (peri-conceptional)'] = df['Folic acid details (peri-conceptional)'].fillna(df['Folic acid details (peri-conceptional)'].mode()[0])\n",
        "df['H/O serious maternal illness'] = df['H/O serious maternal illness'].fillna(df['H/O serious maternal illness'].mode()[0])\n",
        "df['Assisted conception IVF/ART'] = df['Assisted conception IVF/ART'].fillna(df['Assisted conception IVF/ART'].mode()[0])\n",
        "df['History of anomalies in previous pregnancies'] = df['History of anomalies in previous pregnancies'].fillna(df['History of anomalies in previous pregnancies'].mode()[0])\n",
        "df['Birth defects'] = df['Birth defects'].fillna(df['Birth defects'].mode()[0])\n",
        "df['Blood test result'] = df['Blood test result'].fillna(df['Blood test result'].mode()[0])\n",
        "\n",
        "df.isnull().sum() #check"
      ],
      "metadata": {
        "id": "EMRBJOHSE8_s"
      },
      "execution_count": null,
      "outputs": []
    },
    {
      "cell_type": "code",
      "source": [
        "#based on the values in the target variable \"Disorder Subclass\", predict the \"Genetic Disorder\" class \n",
        "null_disorders = df[df['Genetic Disorder'].isna()]\n",
        "index_null = df['Genetic Disorder'].isna()\n",
        "\n",
        "for i in range(len(null_disorders)):\n",
        " if(null_disorders.iloc[i]['Disorder Subclass'] == \"Leber's hereditary optic neuropathy\"\t\n",
        "    or null_disorders.iloc[i]['Disorder Subclass'] == \"Leigh syndrome\"\n",
        "    or\tnull_disorders.iloc[i]['Disorder Subclass'] == \"Mitochondrial myopathy\"):\n",
        "   df['Genetic Disorder'][df.index[index_null][i]] = 'Mitochondrial genetic inheritance disorders'\n",
        "\n",
        " elif(null_disorders.iloc[i]['Disorder Subclass'] == \"Alzheimer's\"\t\n",
        "    or null_disorders.iloc[i]['Disorder Subclass'] == \"Cancer\"\n",
        "    or\tnull_disorders.iloc[i]['Disorder Subclass'] == \"Diabetes\"):\n",
        "   df['Genetic Disorder'][df.index[index_null][i]] = 'Multifactorial genetic inheritance disorders'\n",
        "\n",
        " elif(null_disorders.iloc[i]['Disorder Subclass'] == \"Cystic fibrosis\"\t\n",
        "    or null_disorders.iloc[i]['Disorder Subclass'] == \"Hemochromatosis\"\n",
        "    or null_disorders.iloc[i]['Disorder Subclass'] == \"Tay-Sachs\"):\n",
        "   df['Genetic Disorder'][df.index[index_null][i]] = 'Single-gene inheritance diseases'\n",
        "\n",
        "df[df['Genetic Disorder'].isna()]"
      ],
      "metadata": {
        "id": "7Rgfcy-HGtCC"
      },
      "execution_count": null,
      "outputs": []
    },
    {
      "cell_type": "code",
      "source": [
        "#temporary deletion of other null rows in class and sublass\n",
        "df = df.dropna(subset=['Genetic Disorder','Disorder Subclass'])\n",
        "df.isnull().sum()"
      ],
      "metadata": {
        "id": "vg7NUBADk3Je"
      },
      "execution_count": null,
      "outputs": []
    },
    {
      "cell_type": "code",
      "source": [
        "df.isnull().sum().any() #check"
      ],
      "metadata": {
        "id": "4N36DcLVFJHU"
      },
      "execution_count": null,
      "outputs": []
    },
    {
      "cell_type": "markdown",
      "source": [
        "### Save dataset."
      ],
      "metadata": {
        "id": "4Hv9qrmkEUpW"
      }
    },
    {
      "cell_type": "code",
      "source": [
        "df.to_csv('Genetic_Disorder_Dataset.csv', index=False) #save the clean version to use later"
      ],
      "metadata": {
        "id": "lGNtngd9EGZL"
      },
      "execution_count": null,
      "outputs": []
    }
  ]
}